{
 "cells": [
  {
   "cell_type": "code",
   "execution_count": 45,
   "outputs": [],
   "source": [
    "import torch\n",
    "import os\n",
    "import numpy as np\n",
    "import sys\n",
    "\n",
    "# TODO: CHANGE AS NEEDED\n",
    "# tb_path = os.path.realpath(\"../TreeBERT\")\n",
    "# sys.path.append(tb_path)\n",
    "# os.chdir(tb_path)\n",
    "\n",
    "from transformers import RobertaTokenizer, RobertaConfig, RobertaModel, AutoTokenizer\n",
    "\n",
    "device = torch.device(\"cuda:1\" if torch.cuda.is_available() else \"cpu\")\n",
    "tokenizer = AutoTokenizer.from_pretrained(\"microsoft/codebert-base\")\n",
    "model = RobertaModel.from_pretrained(\"microsoft/codebert-base\")\n",
    "model:RobertaModel = model\n",
    "model.to(device)\n",
    "model.add_memory_hooks()"
   ],
   "metadata": {
    "collapsed": false,
    "ExecuteTime": {
     "end_time": "2023-09-25T08:35:05.640006900Z",
     "start_time": "2023-09-25T08:35:03.257628500Z"
    }
   },
   "id": "df5a2eaaf4941737"
  },
  {
   "cell_type": "code",
   "execution_count": 49,
   "outputs": [
    {
     "data": {
      "text/plain": "RobertaModel(\n  (embeddings): RobertaEmbeddings(\n    (word_embeddings): Embedding(50265, 768, padding_idx=1)\n    (position_embeddings): Embedding(514, 768, padding_idx=1)\n    (token_type_embeddings): Embedding(1, 768)\n    (LayerNorm): LayerNorm((768,), eps=1e-05, elementwise_affine=True)\n    (dropout): Dropout(p=0.1, inplace=False)\n  )\n  (encoder): RobertaEncoder(\n    (layer): ModuleList(\n      (0-11): 12 x RobertaLayer(\n        (attention): RobertaAttention(\n          (self): RobertaSelfAttention(\n            (query): Linear(in_features=768, out_features=768, bias=True)\n            (key): Linear(in_features=768, out_features=768, bias=True)\n            (value): Linear(in_features=768, out_features=768, bias=True)\n            (dropout): Dropout(p=0.1, inplace=False)\n          )\n          (output): RobertaSelfOutput(\n            (dense): Linear(in_features=768, out_features=768, bias=True)\n            (LayerNorm): LayerNorm((768,), eps=1e-05, elementwise_affine=True)\n            (dropout): Dropout(p=0.1, inplace=False)\n          )\n        )\n        (intermediate): RobertaIntermediate(\n          (dense): Linear(in_features=768, out_features=3072, bias=True)\n          (intermediate_act_fn): GELUActivation()\n        )\n        (output): RobertaOutput(\n          (dense): Linear(in_features=3072, out_features=768, bias=True)\n          (LayerNorm): LayerNorm((768,), eps=1e-05, elementwise_affine=True)\n          (dropout): Dropout(p=0.1, inplace=False)\n        )\n      )\n    )\n  )\n  (pooler): RobertaPooler(\n    (dense): Linear(in_features=768, out_features=768, bias=True)\n    (activation): Tanh()\n  )\n)"
     },
     "execution_count": 49,
     "metadata": {},
     "output_type": "execute_result"
    }
   ],
   "source": [
    "model"
   ],
   "metadata": {
    "collapsed": false,
    "ExecuteTime": {
     "end_time": "2023-09-25T08:35:30.470900900Z",
     "start_time": "2023-09-25T08:35:30.454902Z"
    }
   },
   "id": "1c31918c9446098"
  },
  {
   "cell_type": "code",
   "execution_count": 50,
   "outputs": [],
   "source": [
    "def get_tensor_size(tensor_):\n",
    "    return tensor_.nelement() * tensor_.element_size()\n",
    "\n",
    "def print_tensor_size(tensor_, in_mbs = False):\n",
    "    print(f'{size_ if (size_:=get_tensor_size(tensor_)) and not in_mbs else size_ / (1024**2):,}')"
   ],
   "metadata": {
    "collapsed": false,
    "ExecuteTime": {
     "end_time": "2023-09-25T08:35:37.166966Z",
     "start_time": "2023-09-25T08:35:37.147690600Z"
    }
   },
   "id": "4391c60aa090905e"
  },
  {
   "cell_type": "markdown",
   "source": [
    "### Read labels"
   ],
   "metadata": {
    "collapsed": false
   },
   "id": "35e2a80c4af3efe3"
  },
  {
   "cell_type": "code",
   "execution_count": 51,
   "outputs": [],
   "source": [
    "import pandas as pd\n",
    "import json\n",
    "\n",
    "labels = open('pretrain_data_code/java_custom_label/bert_output.json', 'r').readlines()\n",
    "\n",
    "smells = []\n",
    "\n",
    "for i in labels:\n",
    "    test_line = json.loads(i)\n",
    "    smells.append(test_line[\"smellKey\"])\n",
    "\n",
    "label_series = pd.Series(smells)\n",
    "\n",
    "from sklearn.preprocessing import OneHotEncoder, LabelEncoder\n",
    "\n",
    "ohe = OneHotEncoder(sparse_output=False)\n",
    "le = LabelEncoder()\n",
    "\n",
    "label_numpy = ohe.fit_transform(label_series.to_numpy().reshape(-1, 1))\n",
    "le.fit_transform(label_series.to_numpy())\n",
    "label_count = len(ohe.categories_[0])"
   ],
   "metadata": {
    "collapsed": false,
    "ExecuteTime": {
     "end_time": "2023-09-25T08:35:40.723957200Z",
     "start_time": "2023-09-25T08:35:40.250529800Z"
    }
   },
   "id": "bcb3c812b8aab9f"
  },
  {
   "cell_type": "code",
   "execution_count": 64,
   "outputs": [
    {
     "name": "stderr",
     "output_type": "stream",
     "text": [
      "100%|██████████| 7974/7974 [00:07<00:00, 1069.99it/s]\n"
     ]
    }
   ],
   "source": [
    "import json\n",
    "import tqdm\n",
    "import re\n",
    "token_list = []\n",
    "\n",
    "lines = open(\"../TreeBERT/pretrain_data_code/java_custom_label/bert_output.json\").readlines()\n",
    "\n",
    "lines = tqdm.tqdm(lines, total=len(lines))\n",
    "i = 0\n",
    "for line in lines:\n",
    "    line = re.sub(r\" {2,}|\\\\n|\\\\r\", \"\", json.loads(line)[\"function\"])\n",
    "    tokens = [tokenizer.cls_token] + tokenizer.tokenize(line) + [tokenizer.eos_token]\n",
    "    i += 1\n",
    "    tokens_ids = np.asarray(tokenizer.convert_tokens_to_ids(tokens))\n",
    "     # xxxxxxxxxxx\n",
    "    # https://arxiv.org/abs/1905.05583\n",
    "    if len(tokens_ids) >= 512:\n",
    "        # halfway = len(tokens_ids) // 2\n",
    "        tokens_ids = tokens_ids[:511]\n",
    "    else:\n",
    "        tokens_ids = np.pad(tokens_ids, (0, 511 - tokens_ids.shape[0])) \n",
    "\n",
    "    tensor = torch.tensor(tokens_ids).to(device)[None, :]\n",
    "    \n",
    "    # BaseModelOutputWithPoolingAndCrossAttentions\n",
    "    token_list.append(tensor)\n",
    "\n",
    "# token_list = [i[\"pooler_output\"] for i in token_list]\n",
    "# token_list = [i.reshape(-1, *tuple(i.shape)) for i in token_list]\n",
    "# [i.shape for i in token_list]"
   ],
   "metadata": {
    "collapsed": false,
    "ExecuteTime": {
     "end_time": "2023-09-25T08:48:01.805010Z",
     "start_time": "2023-09-25T08:47:53.874394800Z"
    }
   },
   "id": "b3b9fa1a33641c20"
  },
  {
   "cell_type": "code",
   "execution_count": 65,
   "outputs": [
    {
     "data": {
      "text/plain": "['<s>',\n 'public',\n 'Ġlong',\n 'Ġget',\n 'W',\n 'ake',\n 'Up',\n '(){',\n 'č',\n 'Ċ',\n 'return',\n 'Ġwake',\n 'Up',\n ';',\n 'č',\n 'Ċ',\n '}',\n '</s>']"
     },
     "execution_count": 65,
     "metadata": {},
     "output_type": "execute_result"
    }
   ],
   "source": [
    "tokens"
   ],
   "metadata": {
    "collapsed": false,
    "ExecuteTime": {
     "end_time": "2023-09-25T08:48:02.497519900Z",
     "start_time": "2023-09-25T08:48:02.448517600Z"
    }
   },
   "id": "d26204bdf849229d"
  },
  {
   "cell_type": "code",
   "execution_count": 66,
   "outputs": [],
   "source": [
    "# [i.shape for i in token_list]\n",
    "# token_list = [i.reshape(i.shape[0]) for i in token_list]\n",
    "# [i.shape for i in token_list]\n",
    "token_tensor = torch.vstack(token_list)\n",
    "# token_tensor = token_tensor.reshape(-1, 9, 513)\n",
    "# embeddings = model(token_tensor)"
   ],
   "metadata": {
    "collapsed": false,
    "ExecuteTime": {
     "end_time": "2023-09-25T08:48:03.210309300Z",
     "start_time": "2023-09-25T08:48:03.198309700Z"
    }
   },
   "id": "cf194ef548a4af29"
  },
  {
   "cell_type": "code",
   "execution_count": 67,
   "outputs": [],
   "source": [
    "import torch.utils.data as data_utils\n",
    "\n",
    "batch_size = 32\n",
    "\n",
    "label_tensor = torch.tensor(label_numpy, dtype=torch.long, device=device)\n",
    "\n",
    "ds = data_utils.TensorDataset(token_tensor, label_tensor)\n",
    "\n",
    "loader = data_utils.DataLoader(ds, batch_size=batch_size, shuffle=True)"
   ],
   "metadata": {
    "collapsed": false,
    "ExecuteTime": {
     "end_time": "2023-09-25T08:48:03.991791Z",
     "start_time": "2023-09-25T08:48:03.974788Z"
    }
   },
   "id": "cc0e952a9a462e19"
  },
  {
   "cell_type": "code",
   "execution_count": 68,
   "outputs": [
    {
     "name": "stderr",
     "output_type": "stream",
     "text": [
      "100%|██████████| 250/250 [01:17<00:00,  3.23it/s]\n"
     ]
    }
   ],
   "source": [
    "iterator = tqdm.tqdm(enumerate(loader), total=len(loader))\n",
    "\n",
    "embeds = []\n",
    "for i, j in iterator:\n",
    "    with torch.no_grad():\n",
    "        embeds.append(model(j[0])[\"pooler_output\"])\n",
    "    \n"
   ],
   "metadata": {
    "collapsed": false,
    "ExecuteTime": {
     "end_time": "2023-09-25T08:49:22.558118900Z",
     "start_time": "2023-09-25T08:48:05.161291700Z"
    }
   },
   "id": "bd3e2c3443b4b7f2"
  },
  {
   "cell_type": "code",
   "execution_count": 69,
   "outputs": [],
   "source": [
    "embeds_tensor = torch.vstack(embeds)\n",
    "\n",
    "embeds_numpy = embeds_tensor.cpu().detach().numpy()\n",
    "os.chdir(\"../general\")\n",
    "embeds_numpy.tofile(open(\"data/codebert_embeds\", \"w\"))\n"
   ],
   "metadata": {
    "collapsed": false,
    "ExecuteTime": {
     "end_time": "2023-09-25T08:49:34.214127800Z",
     "start_time": "2023-09-25T08:49:34.075586600Z"
    }
   },
   "id": "1e7dcdd2ac6df472"
  },
  {
   "cell_type": "code",
   "execution_count": 59,
   "outputs": [
    {
     "data": {
      "text/plain": "(6124032,)"
     },
     "execution_count": 59,
     "metadata": {},
     "output_type": "execute_result"
    }
   ],
   "source": [
    "np.fromfile(open(\"../general/data/codebert_embeds\", \"r\"), dtype=np.float32).shape\n"
   ],
   "metadata": {
    "collapsed": false,
    "ExecuteTime": {
     "end_time": "2023-09-25T08:39:28.895394600Z",
     "start_time": "2023-09-25T08:39:28.696887100Z"
    }
   },
   "id": "2a10c81808682916"
  }
 ],
 "metadata": {
  "kernelspec": {
   "display_name": "Python 3",
   "language": "python",
   "name": "python3"
  },
  "language_info": {
   "codemirror_mode": {
    "name": "ipython",
    "version": 2
   },
   "file_extension": ".py",
   "mimetype": "text/x-python",
   "name": "python",
   "nbconvert_exporter": "python",
   "pygments_lexer": "ipython2",
   "version": "2.7.6"
  }
 },
 "nbformat": 4,
 "nbformat_minor": 5
}
