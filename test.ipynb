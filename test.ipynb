{
 "cells": [
  {
   "cell_type": "code",
   "execution_count": 1,
   "outputs": [],
   "source": [
    "import torch\n",
    "import os\n",
    "import json\n",
    "import pandas as pd\n",
    "import numpy as np\n",
    "import sys\n",
    "\n",
    "# TODO: CHANGE AS NEEDED\n",
    "tb_path = os.path.realpath(\"../TreeBERT\")\n",
    "sys.path.append(tb_path)\n",
    "# os.chdir(tb_path)"
   ],
   "metadata": {
    "collapsed": false,
    "ExecuteTime": {
     "end_time": "2023-09-26T06:57:47.233917400Z",
     "start_time": "2023-09-26T06:57:46.043921100Z"
    }
   },
   "id": "143161f4ecc98588"
  },
  {
   "cell_type": "code",
   "execution_count": 2,
   "outputs": [],
   "source": [
    "device = torch.device(\"cuda:0\")\n",
    "# model = torch.load('../TreeBERT/data/output_rerun_rerun_extended.ep49')\n",
    "# model = model.to(device)\n",
    "# model.eval();"
   ],
   "metadata": {
    "collapsed": false,
    "ExecuteTime": {
     "end_time": "2023-09-26T06:57:47.258545100Z",
     "start_time": "2023-09-26T06:57:47.239918Z"
    }
   },
   "id": "c6d83c1bbff409af"
  },
  {
   "cell_type": "markdown",
   "source": [
    "### Read labels"
   ],
   "metadata": {
    "collapsed": false
   },
   "id": "907946e17be156ce"
  },
  {
   "cell_type": "code",
   "execution_count": 3,
   "outputs": [],
   "source": [
    "labels = open('../TreeBERT/pretrain_data_code/java_custom_label/bert_output.json', 'r').readlines()\n",
    "\n",
    "smells = []\n",
    "\n",
    "for i in labels:\n",
    "    test_line = json.loads(i)\n",
    "    smells.append(test_line[\"smellKey\"])\n",
    "\n",
    "label_series = pd.Series(smells)\n",
    "\n",
    "from sklearn.preprocessing import OneHotEncoder, LabelEncoder\n",
    "\n",
    "ohe = OneHotEncoder(sparse_output=False)\n",
    "le = LabelEncoder()\n",
    "\n",
    "label_numpy = ohe.fit_transform(label_series.to_numpy().reshape(-1, 1))\n",
    "le.fit_transform(label_series.to_numpy())\n",
    "label_count = len(ohe.categories_[0])"
   ],
   "metadata": {
    "collapsed": false,
    "ExecuteTime": {
     "end_time": "2023-09-26T06:57:47.838995100Z",
     "start_time": "2023-09-26T06:57:47.242916300Z"
    }
   },
   "id": "9ea37555064511c9"
  },
  {
   "cell_type": "markdown",
   "source": [
    "### Dataloader"
   ],
   "metadata": {
    "collapsed": false
   },
   "id": "79d24b29dc386ad0"
  },
  {
   "cell_type": "code",
   "execution_count": 4,
   "outputs": [],
   "source": [
    "# from dataset import BPE, TokenVocab, TreeBERTDataset\n",
    "# from torch.utils.data import DataLoader\n",
    "# \n",
    "# vocab = TokenVocab.load_vocab(\"data/vocab.large\")\n",
    "# labeled_dataset = TreeBERTDataset(vocab, \"pretrain_data_AST_tmp/java_custom_label/bert_output.json_ast\", path_num=100, node_num=20,\n",
    "#                                     code_len=200, is_fine_tune=False, corpus_lines=None)\n",
    "# \n",
    "# batch_size = 16\n",
    "# \n",
    "# labeled_data_loader = DataLoader(labeled_dataset, batch_size=batch_size)"
   ],
   "metadata": {
    "collapsed": false,
    "ExecuteTime": {
     "end_time": "2023-09-26T06:57:47.859981200Z",
     "start_time": "2023-09-26T06:57:47.844982500Z"
    }
   },
   "id": "af30972b1f931e3b"
  },
  {
   "cell_type": "code",
   "execution_count": 5,
   "outputs": [],
   "source": [
    "# import tqdm\n",
    "# data_iter = tqdm.tqdm(enumerate(labeled_data_loader),\n",
    "#                               total=len(labeled_data_loader))\n",
    "# \n",
    "# code_data_list = []\n",
    "# \n",
    "# for i, data in data_iter:\n",
    "#     item = {key: value.to(device) for key, value in data.items()}\n",
    "# \n",
    "#     with torch.no_grad():\n",
    "#         code_data_list.append(model(item[\"encoder_input\"], item[\"node_pos_em_coeff\"], item[\"decoder_input\"]))"
   ],
   "metadata": {
    "collapsed": false,
    "ExecuteTime": {
     "end_time": "2023-09-26T06:57:47.860932300Z",
     "start_time": "2023-09-26T06:57:47.848981600Z"
    }
   },
   "id": "e8f31c98b01ca339"
  },
  {
   "cell_type": "code",
   "execution_count": 6,
   "outputs": [],
   "source": [
    "# hudai_data = r\"/mnt/c/Users/FSM/Desktop/NIZAM/Embedding/Primitive_Embedding/Data/fn_smell_embeddings.pt\"\n",
    "# hudai_data = torch.load(hudai_data)\n",
    "# hudai_data.shape"
   ],
   "metadata": {
    "collapsed": false,
    "ExecuteTime": {
     "end_time": "2023-09-26T06:57:47.888929Z",
     "start_time": "2023-09-26T06:57:47.860932300Z"
    }
   },
   "id": "6f9dfb073e4ca6a4"
  },
  {
   "cell_type": "code",
   "execution_count": 7,
   "outputs": [],
   "source": [
    "codebert_data = np.fromfile(open(\"data/codebert_embeds\", \"r\"), np.float32)\n",
    "codebert_data = codebert_data.reshape(7974, -1)\n",
    "codebert_data = torch.tensor(codebert_data, device=device, dtype=torch.float32)"
   ],
   "metadata": {
    "collapsed": false,
    "ExecuteTime": {
     "end_time": "2023-09-26T06:57:48.993153Z",
     "start_time": "2023-09-26T06:57:47.870994600Z"
    }
   },
   "id": "b8c7a2b8fbad7c9"
  },
  {
   "cell_type": "code",
   "execution_count": 8,
   "outputs": [],
   "source": [
    "# from torch.utils.data import TensorDataset, DataLoader\n",
    "# \n",
    "# labeled_dataset = TensorDataset(codebert_data)\n",
    "# batch_size = 16\n",
    "# labeled_data_loader = DataLoader(labeled_dataset, batch_size=batch_size)"
   ],
   "metadata": {
    "collapsed": false,
    "ExecuteTime": {
     "end_time": "2023-09-26T06:57:49.014152800Z",
     "start_time": "2023-09-26T06:57:48.998153800Z"
    }
   },
   "id": "851b72162239280b"
  },
  {
   "cell_type": "markdown",
   "source": [
    "### EVALUATE RESULTS"
   ],
   "metadata": {
    "collapsed": false
   },
   "id": "897ce41722784c3e"
  },
  {
   "cell_type": "code",
   "execution_count": 9,
   "outputs": [],
   "source": [
    "# results = []\n",
    "# iterator = tqdm.tqdm(enumerate(labeled_data_loader), total=len(labeled_data_loader))\n",
    "# model_classifier.eval()\n",
    "# with torch.no_grad():\n",
    "#     for i, data in iterator:\n",
    "#         code_data_1d = data[0]\n",
    "#         result = model_classifier(code_data_1d)\n",
    "#         results.append(result.detach().cpu().numpy())"
   ],
   "metadata": {
    "collapsed": false,
    "ExecuteTime": {
     "end_time": "2023-09-26T06:57:49.015152Z",
     "start_time": "2023-09-26T06:57:49.003148400Z"
    }
   },
   "id": "b5a57215ed5f549e"
  },
  {
   "cell_type": "code",
   "execution_count": 10,
   "outputs": [],
   "source": [
    "# result_table = pd.concat([pd.Series(ohe.inverse_transform(np.vstack(results)).flatten()).value_counts(), label_series.value_counts()], axis=1)\n",
    "# result_table.columns = [\"predicted\", \"truth\"]\n",
    "# \n",
    "# # result_table[\"ratio\"].sum() / result_table[\"truth\"].sum()\n",
    "# result_table\n",
    "# # labeled_data_loader\n",
    "# # label_series__ = label_series[label_series == label_series.iloc[0]]\n",
    "# \n",
    "# np.sum(le.inverse_transform(np.argmax(np.vstack(results), axis=1)) == label_series) / len(label_series)\n",
    "# # np.argmin(np.abs(np.vstack(results) - 1), axis=1)\n",
    "# # torch.argmax(torch.tensor(np.vstack(results)), dim=1)\n",
    "# # results"
   ],
   "metadata": {
    "collapsed": false,
    "ExecuteTime": {
     "end_time": "2023-09-26T06:57:49.038150300Z",
     "start_time": "2023-09-26T06:57:49.015152Z"
    }
   },
   "id": "ab97dc6cf3cb8f0a"
  },
  {
   "cell_type": "code",
   "execution_count": 11,
   "outputs": [],
   "source": [
    "# np.argmax(np.vstack(results), axis=1).ndim"
   ],
   "metadata": {
    "collapsed": false,
    "ExecuteTime": {
     "end_time": "2023-09-26T06:57:49.038150300Z",
     "start_time": "2023-09-26T06:57:49.020149800Z"
    }
   },
   "id": "66e00d713dedd93f"
  },
  {
   "cell_type": "code",
   "execution_count": 12,
   "outputs": [],
   "source": [
    "# print(\"Opening tensor file\")\n",
    "# fromfile = np.fromfile(\"../TreeBERT/data/dump/dump.txt\", dtype=np.float32)\n",
    "# print(\"Opened tensor file\")"
   ],
   "metadata": {
    "collapsed": false,
    "ExecuteTime": {
     "end_time": "2023-09-26T06:57:49.039150200Z",
     "start_time": "2023-09-26T06:57:49.035166500Z"
    }
   },
   "id": "3f13bb8990b927f1"
  },
  {
   "cell_type": "code",
   "execution_count": 13,
   "outputs": [],
   "source": [
    "# fromfile = fromfile.reshape(7974, 202, -1)"
   ],
   "metadata": {
    "collapsed": false,
    "ExecuteTime": {
     "end_time": "2023-09-26T06:57:49.081152400Z",
     "start_time": "2023-09-26T06:57:49.038150300Z"
    }
   },
   "id": "605e0ce71bc01731"
  },
  {
   "cell_type": "code",
   "execution_count": 14,
   "outputs": [],
   "source": [
    "most_freq = label_series.value_counts().index[2:5]\n",
    "\n",
    "top3indices = np.asarray(label_series[label_series.apply(lambda x:x in list(most_freq))].index)"
   ],
   "metadata": {
    "collapsed": false,
    "ExecuteTime": {
     "end_time": "2023-09-26T06:57:49.112147900Z",
     "start_time": "2023-09-26T06:57:49.048151600Z"
    }
   },
   "id": "4799ee371e2a8af7"
  },
  {
   "cell_type": "code",
   "execution_count": 15,
   "outputs": [
    {
     "data": {
      "text/plain": "java:S1161    0.420085\njava:S1172    0.311174\njava:S3740    0.268741\nName: proportion, dtype: float64"
     },
     "execution_count": 15,
     "metadata": {},
     "output_type": "execute_result"
    }
   ],
   "source": [
    "label_series[label_series.apply(lambda x:x in list(most_freq))].value_counts(normalize=True)"
   ],
   "metadata": {
    "collapsed": false,
    "ExecuteTime": {
     "end_time": "2023-09-26T06:57:49.127148200Z",
     "start_time": "2023-09-26T06:57:49.070159400Z"
    }
   },
   "id": "5f513c687996c559"
  },
  {
   "cell_type": "code",
   "execution_count": 16,
   "outputs": [],
   "source": [
    "np.random.RandomState().shuffle(top3indices)\n",
    "# treebert = torch.tensor(fromfile, dtype=torch.float32, device=device)"
   ],
   "metadata": {
    "collapsed": false,
    "ExecuteTime": {
     "end_time": "2023-09-26T06:57:49.127148200Z",
     "start_time": "2023-09-26T06:57:49.089148900Z"
    }
   },
   "id": "8fbc794f2b008fa"
  },
  {
   "cell_type": "code",
   "execution_count": 121,
   "outputs": [
    {
     "name": "stderr",
     "output_type": "stream",
     "text": [
      "EP_test:0: 100%|| 23/23 [00:00<00:00, 305.21it/s]\n"
     ]
    },
    {
     "name": "stdout",
     "output_type": "stream",
     "text": [
      "Epoch [1/100], Loss: 0.7004\n"
     ]
    },
    {
     "name": "stderr",
     "output_type": "stream",
     "text": [
      "EP_test:1: 100%|| 23/23 [00:00<00:00, 346.91it/s]\n"
     ]
    },
    {
     "name": "stdout",
     "output_type": "stream",
     "text": [
      "Epoch [2/100], Loss: 0.6941\n"
     ]
    },
    {
     "name": "stderr",
     "output_type": "stream",
     "text": [
      "EP_test:2: 100%|| 23/23 [00:00<00:00, 332.97it/s]\n"
     ]
    },
    {
     "name": "stdout",
     "output_type": "stream",
     "text": [
      "Epoch [3/100], Loss: 0.6885\n"
     ]
    },
    {
     "name": "stderr",
     "output_type": "stream",
     "text": [
      "EP_test:3: 100%|| 23/23 [00:00<00:00, 258.35it/s]\n"
     ]
    },
    {
     "name": "stdout",
     "output_type": "stream",
     "text": [
      "Epoch [4/100], Loss: 0.6833\n"
     ]
    },
    {
     "name": "stderr",
     "output_type": "stream",
     "text": [
      "EP_test:4: 100%|| 23/23 [00:00<00:00, 266.92it/s]\n"
     ]
    },
    {
     "name": "stdout",
     "output_type": "stream",
     "text": [
      "Epoch [5/100], Loss: 0.6784\n"
     ]
    },
    {
     "name": "stderr",
     "output_type": "stream",
     "text": [
      "EP_test:5: 100%|| 23/23 [00:00<00:00, 344.84it/s]\n"
     ]
    },
    {
     "name": "stdout",
     "output_type": "stream",
     "text": [
      "Epoch [6/100], Loss: 0.6738\n"
     ]
    },
    {
     "name": "stderr",
     "output_type": "stream",
     "text": [
      "EP_test:6: 100%|| 23/23 [00:00<00:00, 334.21it/s]\n"
     ]
    },
    {
     "name": "stdout",
     "output_type": "stream",
     "text": [
      "Epoch [7/100], Loss: 0.6694\n"
     ]
    },
    {
     "name": "stderr",
     "output_type": "stream",
     "text": [
      "EP_test:7: 100%|| 23/23 [00:00<00:00, 381.50it/s]\n"
     ]
    },
    {
     "name": "stdout",
     "output_type": "stream",
     "text": [
      "Epoch [8/100], Loss: 0.6652\n"
     ]
    },
    {
     "name": "stderr",
     "output_type": "stream",
     "text": [
      "EP_test:8: 100%|| 23/23 [00:00<00:00, 366.25it/s]\n"
     ]
    },
    {
     "name": "stdout",
     "output_type": "stream",
     "text": [
      "Epoch [9/100], Loss: 0.6613\n"
     ]
    },
    {
     "name": "stderr",
     "output_type": "stream",
     "text": [
      "EP_test:9: 100%|| 23/23 [00:00<00:00, 340.86it/s]\n"
     ]
    },
    {
     "name": "stdout",
     "output_type": "stream",
     "text": [
      "Epoch [10/100], Loss: 0.6575\n"
     ]
    },
    {
     "name": "stderr",
     "output_type": "stream",
     "text": [
      "EP_test:10: 100%|| 23/23 [00:00<00:00, 341.31it/s]\n"
     ]
    },
    {
     "name": "stdout",
     "output_type": "stream",
     "text": [
      "Epoch [11/100], Loss: 0.6540\n"
     ]
    },
    {
     "name": "stderr",
     "output_type": "stream",
     "text": [
      "EP_test:11: 100%|| 23/23 [00:00<00:00, 387.65it/s]\n"
     ]
    },
    {
     "name": "stdout",
     "output_type": "stream",
     "text": [
      "Epoch [12/100], Loss: 0.6506\n"
     ]
    },
    {
     "name": "stderr",
     "output_type": "stream",
     "text": [
      "EP_test:12: 100%|| 23/23 [00:00<00:00, 367.80it/s]\n"
     ]
    },
    {
     "name": "stdout",
     "output_type": "stream",
     "text": [
      "Epoch [13/100], Loss: 0.6473\n"
     ]
    },
    {
     "name": "stderr",
     "output_type": "stream",
     "text": [
      "EP_test:13: 100%|| 23/23 [00:00<00:00, 375.59it/s]\n"
     ]
    },
    {
     "name": "stdout",
     "output_type": "stream",
     "text": [
      "Epoch [14/100], Loss: 0.6442\n"
     ]
    },
    {
     "name": "stderr",
     "output_type": "stream",
     "text": [
      "EP_test:14: 100%|| 23/23 [00:00<00:00, 378.13it/s]\n"
     ]
    },
    {
     "name": "stdout",
     "output_type": "stream",
     "text": [
      "Epoch [15/100], Loss: 0.6414\n"
     ]
    },
    {
     "name": "stderr",
     "output_type": "stream",
     "text": [
      "EP_test:15: 100%|| 23/23 [00:00<00:00, 386.75it/s]\n"
     ]
    },
    {
     "name": "stdout",
     "output_type": "stream",
     "text": [
      "Epoch [16/100], Loss: 0.6388\n"
     ]
    },
    {
     "name": "stderr",
     "output_type": "stream",
     "text": [
      "EP_test:16: 100%|| 23/23 [00:00<00:00, 395.62it/s]\n"
     ]
    },
    {
     "name": "stdout",
     "output_type": "stream",
     "text": [
      "Epoch [17/100], Loss: 0.6364\n"
     ]
    },
    {
     "name": "stderr",
     "output_type": "stream",
     "text": [
      "EP_test:17: 100%|| 23/23 [00:00<00:00, 351.76it/s]\n"
     ]
    },
    {
     "name": "stdout",
     "output_type": "stream",
     "text": [
      "Epoch [18/100], Loss: 0.6344\n"
     ]
    },
    {
     "name": "stderr",
     "output_type": "stream",
     "text": [
      "EP_test:18: 100%|| 23/23 [00:00<00:00, 375.87it/s]"
     ]
    },
    {
     "name": "stdout",
     "output_type": "stream",
     "text": [
      "Epoch [19/100], Loss: 0.6327\n"
     ]
    },
    {
     "name": "stderr",
     "output_type": "stream",
     "text": [
      "\n",
      "EP_test:19: 100%|| 23/23 [00:00<00:00, 380.34it/s]\n"
     ]
    },
    {
     "name": "stdout",
     "output_type": "stream",
     "text": [
      "Epoch [20/100], Loss: 0.6313\n"
     ]
    },
    {
     "name": "stderr",
     "output_type": "stream",
     "text": [
      "EP_test:20: 100%|| 23/23 [00:00<00:00, 409.65it/s]\n"
     ]
    },
    {
     "name": "stdout",
     "output_type": "stream",
     "text": [
      "Epoch [21/100], Loss: 0.6302\n"
     ]
    },
    {
     "name": "stderr",
     "output_type": "stream",
     "text": [
      "EP_test:21: 100%|| 23/23 [00:00<00:00, 373.08it/s]\n"
     ]
    },
    {
     "name": "stdout",
     "output_type": "stream",
     "text": [
      "Epoch [22/100], Loss: 0.6293\n"
     ]
    },
    {
     "name": "stderr",
     "output_type": "stream",
     "text": [
      "EP_test:22: 100%|| 23/23 [00:00<00:00, 388.74it/s]\n"
     ]
    },
    {
     "name": "stdout",
     "output_type": "stream",
     "text": [
      "Epoch [23/100], Loss: 0.6287\n"
     ]
    },
    {
     "name": "stderr",
     "output_type": "stream",
     "text": [
      "EP_test:23: 100%|| 23/23 [00:00<00:00, 430.82it/s]\n"
     ]
    },
    {
     "name": "stdout",
     "output_type": "stream",
     "text": [
      "Epoch [24/100], Loss: 0.6282\n"
     ]
    },
    {
     "name": "stderr",
     "output_type": "stream",
     "text": [
      "EP_test:24: 100%|| 23/23 [00:00<00:00, 409.18it/s]\n"
     ]
    },
    {
     "name": "stdout",
     "output_type": "stream",
     "text": [
      "Epoch [25/100], Loss: 0.6279\n"
     ]
    },
    {
     "name": "stderr",
     "output_type": "stream",
     "text": [
      "EP_test:25: 100%|| 23/23 [00:00<00:00, 377.55it/s]\n"
     ]
    },
    {
     "name": "stdout",
     "output_type": "stream",
     "text": [
      "Epoch [26/100], Loss: 0.6277\n"
     ]
    },
    {
     "name": "stderr",
     "output_type": "stream",
     "text": [
      "EP_test:26: 100%|| 23/23 [00:00<00:00, 394.68it/s]\n"
     ]
    },
    {
     "name": "stdout",
     "output_type": "stream",
     "text": [
      "Epoch [27/100], Loss: 0.6275\n"
     ]
    },
    {
     "name": "stderr",
     "output_type": "stream",
     "text": [
      "EP_test:27: 100%|| 23/23 [00:00<00:00, 407.96it/s]"
     ]
    },
    {
     "name": "stdout",
     "output_type": "stream",
     "text": [
      "Epoch [28/100], Loss: 0.6274\n",
      "Training finished early!\n"
     ]
    },
    {
     "name": "stderr",
     "output_type": "stream",
     "text": [
      "\n"
     ]
    },
    {
     "data": {
      "text/plain": "MultiLabelClassifier(\n  (linear): Linear(in_features=768, out_features=256, bias=True)\n  (linear2): Linear(in_features=256, out_features=128, bias=True)\n  (linear3): Linear(in_features=128, out_features=128, bias=True)\n  (linear4): Linear(in_features=128, out_features=3, bias=True)\n  (drop): Dropout(p=0.1, inplace=False)\n  (act): ReLU()\n  (act2): Sigmoid()\n)"
     },
     "execution_count": 121,
     "metadata": {},
     "output_type": "execute_result"
    }
   ],
   "source": [
    "import importlib\n",
    "import math\n",
    "\n",
    "import model\n",
    "importlib.reload(model)\n",
    "import tqdm\n",
    "from IPython.utils import io\n",
    "\n",
    "\n",
    "# np.random.RandomState().shuffle(top3indices)\n",
    "data_ = codebert_data[top3indices]\n",
    "target_ = model.Label(label_series.iloc[top3indices])\n",
    "dataset = model.SingleTensorDataset(data_)\n",
    "test = model.Model(target_, dataset, 64, device)\n",
    "test.train_multi_label()"
   ],
   "metadata": {
    "collapsed": false,
    "ExecuteTime": {
     "end_time": "2023-09-27T09:52:27.647381500Z",
     "start_time": "2023-09-27T09:52:25.553442800Z"
    }
   },
   "id": "2eb915b365cd3480"
  },
  {
   "cell_type": "code",
   "execution_count": 109,
   "outputs": [],
   "source": [
    "\n",
    "# bar = tqdm.tqdm(range(1, 40))\n",
    "# for i in bar:\n",
    "#     \n",
    "#     # train_interval = slice(0, math.ceil(len(data_)*0.66))\n",
    "#     \n",
    "#     train_indices = np.arange(i * 1)\n",
    "#     dataset = model.SingleTensorDataset(data_[train_indices])\n",
    "#     test = model.Model(target_, dataset, 64, device)\n",
    "#     with io.capture_output() as captured:\n",
    "#         test.train()\n",
    "#         loader = torch.utils.data.DataLoader(dataset, 32)\n",
    "#         acc = test.predict(loader, target_.labels[train_indices])\n",
    "#     bar.set_postfix_str(\"Accuracy is:\" + str(acc))\n",
    "#     print(\"Ratio of the most common label: \", np.max(np.bincount(np.argmax(target_.labels[train_indices], axis=1))) / i)\n",
    "#     print(\"---\"*15)\n",
    "        \n",
    "# data_[0].reshape(-1,1).shape"
   ],
   "metadata": {
    "collapsed": false,
    "ExecuteTime": {
     "end_time": "2023-09-27T08:46:29.005132800Z",
     "start_time": "2023-09-27T08:46:28.952127700Z"
    }
   },
   "id": "54aab4597fff4207"
  },
  {
   "cell_type": "code",
   "execution_count": 112,
   "outputs": [
    {
     "name": "stderr",
     "output_type": "stream",
     "text": [
      "100%|██████████| 30/30 [00:00<00:00, 610.03it/s]"
     ]
    },
    {
     "name": "stdout",
     "output_type": "stream",
     "text": [
      "Accuracy is: 0.3945720250521921\n"
     ]
    },
    {
     "name": "stderr",
     "output_type": "stream",
     "text": [
      "\n"
     ]
    }
   ],
   "source": [
    "from torch.utils.data import DataLoader\n",
    "test_interval = slice(math.ceil(len(data_) * 0.66), -1)\n",
    "\n",
    "dataset_test = model.SingleTensorDataset(data_[test_interval])\n",
    "\n",
    "predicts = test.predict(DataLoader(dataset_test, batch_size=16), target_.labels[test_interval])"
   ],
   "metadata": {
    "collapsed": false,
    "ExecuteTime": {
     "end_time": "2023-09-27T08:53:19.018200700Z",
     "start_time": "2023-09-27T08:53:18.885256900Z"
    }
   },
   "id": "b2ec27cfba737b74"
  },
  {
   "cell_type": "code",
   "execution_count": 113,
   "outputs": [
    {
     "data": {
      "text/plain": "array([[0.42890817, 0.326041  , 0.27806848],\n       [0.4275539 , 0.3204356 , 0.27058694],\n       [0.4288886 , 0.3259901 , 0.27797043],\n       ...,\n       [0.42891136, 0.32603666, 0.2780513 ],\n       [0.42861992, 0.3252949 , 0.27689734],\n       [0.42851534, 0.32163793, 0.2723458 ]], dtype=float32)"
     },
     "execution_count": 113,
     "metadata": {},
     "output_type": "execute_result"
    }
   ],
   "source": [
    "predicts"
   ],
   "metadata": {
    "collapsed": false,
    "ExecuteTime": {
     "end_time": "2023-09-27T08:53:19.970523900Z",
     "start_time": "2023-09-27T08:53:19.916520600Z"
    }
   },
   "id": "c500da74d7284d2"
  },
  {
   "cell_type": "code",
   "execution_count": 29,
   "outputs": [
    {
     "data": {
      "text/plain": "<Axes: ylabel='Count'>"
     },
     "execution_count": 29,
     "metadata": {},
     "output_type": "execute_result"
    },
    {
     "data": {
      "text/plain": "<Figure size 640x480 with 1 Axes>",
      "image/png": "[encoded data removed]"
     },
     "metadata": {},
     "output_type": "display_data"
    }
   ],
   "source": [
    "import matplotlib.pyplot as plt\n",
    "import seaborn as sns\n",
    "\n",
    "sns.histplot(np.argmax(np.vstack(predicts), axis=1))"
   ],
   "metadata": {
    "collapsed": false,
    "ExecuteTime": {
     "end_time": "2023-09-21T14:09:20.944457800Z",
     "start_time": "2023-09-21T14:09:20.511701100Z"
    }
   },
   "id": "c67b27b24a14b64e"
  },
  {
   "cell_type": "code",
   "execution_count": 59,
   "outputs": [
    {
     "data": {
      "text/plain": "array([ 0,  5, 10, 15])"
     },
     "execution_count": 59,
     "metadata": {},
     "output_type": "execute_result"
    }
   ],
   "source": [
    "a = [0, 5, 10, 15]\n",
    "np.asarray(a)[np.arange(0, len(a))]"
   ],
   "metadata": {
    "collapsed": false,
    "ExecuteTime": {
     "end_time": "2023-09-25T11:09:46.040207100Z",
     "start_time": "2023-09-25T11:09:46.024162500Z"
    }
   },
   "id": "f34b359cfe533643"
  }
 ],
 "metadata": {
  "kernelspec": {
   "display_name": "Python 3 (ipykernel)",
   "language": "python",
   "name": "python3"
  },
  "language_info": {
   "codemirror_mode": {
    "name": "ipython",
    "version": 3
   },
   "file_extension": ".py",
   "mimetype": "text/x-python",
   "name": "python",
   "nbconvert_exporter": "python",
   "pygments_lexer": "ipython3",
   "version": "3.11.4"
  }
 },
 "nbformat": 4,
 "nbformat_minor": 5
}
